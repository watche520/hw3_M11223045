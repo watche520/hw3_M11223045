{
  "cells": [
    {
      "cell_type": "code",
      "execution_count": 9,
      "metadata": {
        "id": "_TErvnlPSwGK"
      },
      "outputs": [],
      "source": [
        "import cv2\n",
        "import os\n",
        "import sys\n",
        "import time\n",
        "import matplotlib.pyplot as plt\n",
        "\n",
        "import ocr"
      ]
    },
    {
      "cell_type": "code",
      "execution_count": null,
      "metadata": {
        "colab": {
          "base_uri": "https://localhost:8080/"
        },
        "id": "G9R2Ru7iSyY-",
        "outputId": "4ddebf40-3ad3-48ca-d070-42880814662a"
      },
      "outputs": [],
      "source": [
        "# 載入Fast RCNN模型\n",
        "from fastercnn import fastrcnn"
      ]
    },
    {
      "cell_type": "code",
      "execution_count": 11,
      "metadata": {
        "id": "m_Z9KKsRSzK_"
      },
      "outputs": [],
      "source": [
        "# 準備影片路徑\n",
        "video_dir_path = '影片資料集'\n",
        "video_names_list = os.listdir(video_dir_path)\n",
        "video_names_list.remove('範例影片.mkv')\n",
        "video_names_list.sort()"
      ]
    },
    {
      "cell_type": "code",
      "execution_count": 12,
      "metadata": {
        "id": "_L6Lg_JlS0Xq"
      },
      "outputs": [],
      "source": [
        "# 如果輸出資料夾不存在則產生\n",
        "if not os.path.isdir(os.path.join(video_dir_path, 'fastrcnn_out')):\n",
        "    os.mkdir(os.path.join(video_dir_path, 'fastrcnn_out'))"
      ]
    },
    {
      "cell_type": "code",
      "execution_count": 13,
      "metadata": {
        "id": "DAEshtplS1un"
      },
      "outputs": [],
      "source": [
        "def id_rule_check(str_id):\n",
        "    # 檢查第11位編號是否正確\n",
        "    values = {\n",
        "        'A': 10, 'B': 12, 'C': 13, 'D': 14, 'E': 15, 'F': 16, 'G': 17, 'H': 18, 'I': 19, 'J': 20,\n",
        "        'K': 21, 'L': 23, 'M': 24, 'N': 25, 'O': 26, 'P': 27, 'Q': 28, 'R': 29, 'S': 30, 'T': 31,\n",
        "        'U': 32, 'V': 34, 'W': 35, 'X': 36, 'Y': 37, 'Z': 38, '1': 1,  '2':  2,'3':3,'4':4,'5':5,'6':6,'7':7,'8':8,'9':9\n",
        "    }\n",
        "    total = 0\n",
        "    for i, letter in enumerate(str_id[:9]):\n",
        "        if letter in values:\n",
        "            total += values[letter] * (2 ** i)\n",
        "    return str(total % 11) == str_id[10]"
      ]
    },
    {
      "cell_type": "code",
      "execution_count": 14,
      "metadata": {
        "colab": {
          "base_uri": "https://localhost:8080/"
        },
        "id": "C3HE1sqjS2yl",
        "outputId": "99f2c661-3725-4beb-f9ff-70586de58864"
      },
      "outputs": [
        {
          "name": "stdout",
          "output_type": "stream",
          "text": [
            "Processing video_0001.avi: 100.00%\n",
            "Processing video_0001.avi Done!\n",
            "Most common number: SEKU58753494561, confidence: medium;1.90%.\n",
            "Processing video_0002.avi: 100.00%\n",
            "Processing video_0002.avi Done!\n",
            "Most common number: TSSU50994004561, confidence: medium;2.01%.\n",
            "Processing video_0003.avi: 100.00%\n",
            "Processing video_0003.avi Done!\n",
            "Most common number: WHSY58278514561, confidence: high;0.44%.\n",
            "Processing video_0004.avi: 100.00%\n",
            "Processing video_0004.avi Done!\n",
            "Most common number: WHSU67206904531, confidence: high;0.33%.\n",
            "Processing video_0005.avi: 100.00%\n",
            "Processing video_0005.avi Done!\n",
            "Most common number: WHSU53681994561, confidence: medium;1.74%.\n",
            "Processing video_0006.avi: 100.00%\n",
            "Processing video_0006.avi Done!\n",
            "Most common number: WHSU248317PRING, confidence: medium;0.60%.\n",
            "Processing video_0007.avi: 100.00%\n",
            "Processing video_0007.avi Done!\n",
            "Most common number: WHSU16167124561, confidence: medium;1.48%.\n",
            "Processing video_0008.avi: 100.00%\n",
            "Processing video_0008.avi Done!\n",
            "Most common number: WHSU68922514561, confidence: medium;6.48%.\n",
            "Processing video_0009.avi: 100.00%\n",
            "Processing video_0009.avi Done!\n",
            "Most common number: LLLNTREPYEYLBLT, confidence: medium;1.45%.\n",
            "Processing video_0010.avi: 100.00%\n",
            "Processing video_0010.avi Done!\n",
            "Most common number: TLLU4080736EI4L, confidence: medium;0.23%.\n"
          ]
        }
      ],
      "source": [
        "# 使用迴圈依序讀取影片 進行物件偵測(Fast RCNN)和文字辨識(Tesseract-OCR)，並儲存輸出至影片\n",
        "for video_name in video_names_list:\n",
        "    video_path = os.path.join(video_dir_path, video_name)\n",
        "    if not os.path.isfile(video_path):\n",
        "        continue\n",
        "    cap = cv2.VideoCapture(video_path)\n",
        "    if not cap.isOpened():\n",
        "        print('Error: Cannot open video', video_path)\n",
        "        continue\n",
        "\n",
        "    # 取得輸入影像資訊\n",
        "    fps = cap.get(cv2.CAP_PROP_FPS)\n",
        "    width = int(cap.get(cv2.CAP_PROP_FRAME_WIDTH))\n",
        "    height = int(cap.get(cv2.CAP_PROP_FRAME_HEIGHT))\n",
        "\n",
        "    # 影片輸出設定\n",
        "    out = cv2.VideoWriter(os.path.join(video_dir_path, 'fastrcnn_out', f'{video_name}'), cv2.VideoWriter_fourcc(*'XVID'), fps, (width, height))\n",
        "\n",
        "    # 儲存辨識結果\n",
        "    id_text_list = []\n",
        "\n",
        "    while cap.isOpened():\n",
        "        print(f'Processing {video_name}: {(int(cap.get(cv2.CAP_PROP_POS_FRAMES))/int(cap.get(cv2.CAP_PROP_FRAME_COUNT)))*100:.2f}%', end='\\r')\n",
        "        start_time = time.perf_counter()\n",
        "        ret, frame = cap.read()\n",
        "        if not ret:\n",
        "            break\n",
        "        frame = cv2.cvtColor(frame, cv2.COLOR_BGR2RGB)\n",
        "        outputs = fastrcnn.inference_img(frame)\n",
        "        for obj in outputs:\n",
        "            try:\n",
        "                confidence = obj['scores'].data.numpy()[0]\n",
        "            except:\n",
        "                continue\n",
        "            if confidence > 0.5:\n",
        "                x_min, y_min, x_max, y_max = obj['boxes'].data.numpy()[0]\n",
        "                x_min, y_min, x_max, y_max = int(x_min), int(y_min), int(x_max), int(y_max)\n",
        "                # 裁切號碼區域\n",
        "                crop_img = frame[y_min:y_max, x_min:x_max]\n",
        "                # 使用OCR辨識號碼\n",
        "                text = ocr.get_text_from_image(crop_img)\n",
        "                try:\n",
        "                    text = ocr.get_text_from_image(crop_img)\n",
        "                except:\n",
        "                    text = ''\n",
        "                # 畫號碼區域框\n",
        "                cv2.rectangle(frame, (x_min, y_min), (x_max, y_max), (0, 20, 255), 3)\n",
        "                # 文字\n",
        "                if text != '':\n",
        "                    id_text_list.append(text)\n",
        "                    (textWidth, textHeight), _ = cv2.getTextSize(text, cv2.FONT_HERSHEY_SIMPLEX, 1 ,2)\n",
        "                    cv2.rectangle(frame, (x_min, y_max), (x_min + textWidth + 2 , y_max + textHeight + 10), (0, 20, 255), -1)\n",
        "                    cv2.putText(frame, text, (x_min+1, y_max+textHeight+5), cv2.FONT_HERSHEY_SIMPLEX, 1, (255, 255, 255), 2)\n",
        "\n",
        "        # 畫fps\n",
        "        end_time = time.perf_counter()\n",
        "        fps = 1 / (end_time - start_time)\n",
        "        (textWidth, textHeight), _ = cv2.getTextSize(f'FPS: {fps:.2f}', cv2.FONT_HERSHEY_SIMPLEX, 2 ,5)\n",
        "        cv2.rectangle(frame, (30, 80-textHeight-5), (30+textWidth, 80+5), (50, 50, 50), -1)\n",
        "        cv2.putText(frame, f'FPS: {fps:.2f}', (30, 80), cv2.FONT_HERSHEY_SIMPLEX, 2, (255, 255, 255), 5)\n",
        "\n",
        "        out.write(cv2.cvtColor(frame, cv2.COLOR_RGB2BGR))\n",
        "\n",
        "    print('')\n",
        "    print(f'Processing {video_name} Done!')\n",
        "    id_text_list_filtered_len = list(filter(lambda x: len(x)==15, id_text_list))\n",
        "    if id_text_list_filtered_len != []:\n",
        "        id_text_list_filtered_len_rule = list(filter(lambda x: id_rule_check(x), id_text_list_filtered_len))\n",
        "        if id_text_list_filtered_len_rule != []:\n",
        "            # 超過一筆符合長度與規則要求\n",
        "            most_common = max(set(id_text_list_filtered_len_rule), key = id_text_list_filtered_len_rule.count)\n",
        "            confidence = 'high'\n",
        "        else:\n",
        "            # 超過一筆符合長度要求\n",
        "            most_common = max(set(id_text_list_filtered_len), key = id_text_list_filtered_len.count)\n",
        "            confidence = 'medium'\n",
        "    else:\n",
        "        # 都不符合長度要求\n",
        "        most_common = max(set(id_text_list), key = id_text_list.count)\n",
        "        confidence = 'low'\n",
        "    print(f'Most common number: {most_common}, confidence: {confidence};{(id_text_list.count(most_common)/len(id_text_list))*100:.2f}%.')\n",
        "    video_name_without_ext = os.path.splitext(video_name)[0]\n",
        "    os.rename(os.path.join(video_dir_path, 'fastrcnn_out', f'{video_name}'),\n",
        "              os.path.join(video_dir_path, 'fastrcnn_out', f'{video_name_without_ext}_{most_common}.avi'))\n",
        "\n",
        "    cap.release()\n",
        "    out.release()"
      ]
    }
  ],
  "metadata": {
    "accelerator": "GPU",
    "colab": {
      "gpuType": "T4",
      "provenance": []
    },
    "kernelspec": {
      "display_name": "Python 3",
      "name": "python3"
    },
    "language_info": {
      "name": "python",
      "version": "3.8.10"
    }
  },
  "nbformat": 4,
  "nbformat_minor": 0
}
